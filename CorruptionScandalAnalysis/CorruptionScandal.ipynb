{
 "cells": [
  {
   "cell_type": "markdown",
   "metadata": {},
   "source": [
    "## LAVA JATO - AN INFOGRAPHIC OF THE CORRUPTION SCANDALS IN BRAZIL"
   ]
  },
  {
   "cell_type": "code",
   "execution_count": 1,
   "metadata": {
    "collapsed": false
   },
   "outputs": [
    {
     "data": {
      "text/plain": [
       "['./Delações/Colaboração premiada - Alberto Youssef - Depoimento 1.pdf',\n",
       " './Delações/Colaboração premiada - Alberto Youssef - Depoimento 10.pdf',\n",
       " './Delações/Colaboração premiada - Alberto Youssef - Depoimento 11.pdf',\n",
       " './Delações/Colaboração premiada - Alberto Youssef - Depoimento 12.pdf',\n",
       " './Delações/Colaboração premiada - Alberto Youssef - Depoimento 13.pdf',\n",
       " './Delações/Colaboração premiada - Alberto Youssef - Depoimento 14.pdf',\n",
       " './Delações/Colaboração premiada - Alberto Youssef - Depoimento 15.pdf',\n",
       " './Delações/Colaboração premiada - Alberto Youssef - Depoimento 16.pdf',\n",
       " './Delações/Colaboração premiada - Alberto Youssef - Depoimento 17.pdf',\n",
       " './Delações/Colaboração premiada - Alberto Youssef - Depoimento 18.pdf']"
      ]
     },
     "execution_count": 1,
     "metadata": {},
     "output_type": "execute_result"
    }
   ],
   "source": [
    "from os import listdir\n",
    "from os.path import isfile, join\n",
    "\n",
    "delacoes = ['./Delações/' + f for f in listdir('./Delações/') if isfile(join('./Delações/', f))]\n",
    "\n",
    "delacoes[:10]\n",
    "\n"
   ]
  },
  {
   "cell_type": "code",
   "execution_count": 30,
   "metadata": {
    "collapsed": false,
    "scrolled": false
   },
   "outputs": [
    {
     "name": "stdout",
     "output_type": "stream",
     "text": [
      "--------------------------------~-~ -\n",
      "\n",
      "CONFIDENCIAL \n",
      "POLICIA FEDERAL \n",
      "\n",
      "SUPERINTEND~NCIA REGIONAL NO ESTAOO 00 PARANÁ \n",
      "\n",
      "TERMO DE COLABORAÇÃO N ° 01 \n",
      "\n",
      "TERMO DE DECLARA Ç ÕES \n",
      "\n",
      "que presta ALBERTO YOUSSEF \n",
      "\n",
      "DRCOR - Delegacia Regional de Combate ao Crime Organizado \n",
      "DELEFIN - Delegacia de Repressão a C r\n"
     ]
    }
   ],
   "source": [
    "from pdfminer.pdfinterp import PDFResourceManager, PDFPageInterpreter\n",
    "from pdfminer.converter import TextConverter\n",
    "from pdfminer.layout import LAParams\n",
    "from pdfminer.pdfparser import PDFPage\n",
    "from pdfminer.pdfparser import *\n",
    "from io import StringIO\n",
    "\n",
    "txtDelacoes = []\n",
    "\n",
    "def convert_pdf_to_txt(path):\n",
    "    retstr = StringIO()\n",
    "    rsrcmgr = PDFResourceManager()\n",
    "    device = TextConverter(rsrcmgr, retstr, laparams=LAParams())\n",
    "    interpreter = PDFPageInterpreter(rsrcmgr, device)\n",
    "\n",
    "    fp = open(delacoes[0], 'rb')\n",
    "\n",
    "    parser = PDFParser(fp)\n",
    "    document = PDFDocument()\n",
    "    parser.set_document(document)\n",
    "    document.set_parser(parser)\n",
    "\n",
    "    for page in document.get_pages():\n",
    "        interpreter.process_page(page)\n",
    "\n",
    "    text = retstr.getvalue()\n",
    "\n",
    "    fp.close()\n",
    "    device.close()\n",
    "    retstr.close()\n",
    "    return text\n",
    "\n",
    "txtDelacoes.append(convert_pdf_to_txt(delacoes[0]))\n",
    "\n",
    "print(txtDelacoes[0][:300])"
   ]
  },
  {
   "cell_type": "code",
   "execution_count": 126,
   "metadata": {
    "collapsed": false
   },
   "outputs": [
    {
     "data": {
      "text/plain": [
       "[('valores', 21),\n",
       " ('janene', 20),\n",
       " ('empreiteiras', 20),\n",
       " ('empresas', 20),\n",
       " ('paulo', 20),\n",
       " ('roberto', 17),\n",
       " ('contratos', 11),\n",
       " ('petrobras', 10),\n",
       " ('costa', 10),\n",
       " ('jose', 10),\n",
       " ('caso', 10),\n",
       " ('empresa', 10),\n",
       " ('questionado', 9),\n",
       " ('ano', 9),\n",
       " ('diretoria', 8),\n",
       " ('pagamentos', 7),\n",
       " ('esquema', 7),\n",
       " ('valor', 7),\n",
       " ('federal', 6),\n",
       " ('lei', 6),\n",
       " ('emissão', 6),\n",
       " ('relação', 6),\n",
       " ('grandes', 5),\n",
       " ('serviços', 5),\n",
       " ('espécie', 5),\n",
       " ('contratação', 5),\n",
       " ('pagos', 5),\n",
       " ('colaboração', 5),\n",
       " ('regra', 5),\n",
       " ('sabe', 5),\n",
       " ('youssef', 5),\n",
       " ('comissões', 5),\n",
       " ('art', 5),\n",
       " ('informações', 4),\n",
       " ('campanha', 4),\n",
       " ('procurador', 4),\n",
       " ('comissão', 4),\n",
       " ('custos', 4),\n",
       " ('organização', 4),\n",
       " ('posteriormente', 4),\n",
       " ('preso', 4),\n",
       " ('pp', 4),\n",
       " ('conta', 4),\n",
       " ('parte', 4),\n",
       " ('partido', 4),\n",
       " ('demais', 4),\n",
       " ('aditivos', 4),\n",
       " ('margem', 4),\n",
       " ('claudio', 4),\n",
       " ('criminosa', 4),\n",
       " ('notas', 4),\n",
       " ('ato', 4),\n",
       " ('dentre', 4),\n",
       " ('financeiro', 4),\n",
       " ('soube', 4),\n",
       " ('galvao', 4),\n",
       " ('orçamento', 3),\n",
       " ('pmdb', 3),\n",
       " ('pelos', 3),\n",
       " ('funcionários', 3),\n",
       " ('consultoria', 3),\n",
       " ('fiscal', 3),\n",
       " ('financeiras', 3),\n",
       " ('alguns', 3),\n",
       " ('correa', 3),\n",
       " ('juntamente', 3),\n",
       " ('fazendo', 3),\n",
       " ('penais', 3),\n",
       " ('base', 3),\n",
       " ('abastecimento', 3),\n",
       " ('conhecimento', 3),\n",
       " ('partir', 3),\n",
       " ('projeto', 3),\n",
       " ('república', 3),\n",
       " ('recursos', 3),\n",
       " ('estava', 3),\n",
       " ('genu', 3),\n",
       " ('tanto', 3),\n",
       " ('joao', 3),\n",
       " ('muito', 3),\n",
       " ('divisão', 3),\n",
       " ('queiroz', 3),\n",
       " ('aviões', 3),\n",
       " ('contato', 3),\n",
       " ('alberto', 3),\n",
       " ('oportunidade', 3),\n",
       " ('ciente', 3),\n",
       " ('executivo', 3),\n",
       " ('bem', 3),\n",
       " ('leonardo', 3),\n",
       " ('tais', 3),\n",
       " ('propostas', 3),\n",
       " ('mando', 3),\n",
       " ('definida', 3),\n",
       " ('infrações', 3),\n",
       " ('atuava', 3),\n",
       " ('ajuste', 3),\n",
       " ('mantinha', 2),\n",
       " ('escrito', 2),\n",
       " ('acordo', 2)]"
      ]
     },
     "execution_count": 126,
     "metadata": {},
     "output_type": "execute_result"
    }
   ],
   "source": [
    "import re\n",
    "\n",
    "def fixOcr(pattern):\n",
    "    result = \"\"\n",
    "    for c in pattern:\n",
    "        result += c + \"\\s?\"\n",
    "        \n",
    "    result = re.sub('[DO0]','[DO0]',result)\n",
    "    result = re.sub('Ê','[Ê~]',result)\n",
    "    result = re.sub('Á','[AÁ]',result)\n",
    "    return result\n",
    "\n",
    "def extractDelation(delationPdfText):\n",
    "    delationPdfText = delationPdfText[re.search('\\nque presta ',delationPdfText).span()[0]:]\n",
    "    delationPdfText = re.sub(fixOcr('CONFIDENCIAL \\nPOLICIA FEDERAL'),'',delationPdfText)\n",
    "    delationPdfText = re.sub(fixOcr('\\nCONFIDENCIAL'),'',delationPdfText)\n",
    "    delationPdfText = re.sub(fixOcr('\\nSUPERINTENDIONCIA'),'',delationPdfText)\n",
    "    delationPdfText = re.sub(fixOcr('SUPERINTENDÊNCIA REGIONAL NO ESTAOO DO PARANÁ'),'',delationPdfText)\n",
    "    delationPdfText = re.sub(fixOcr('REGIONAL NO ESTAOO DO PARANÁ'),'',delationPdfText)\n",
    "    delationPdfText = re.sub(fixOcr('TERMO DE COLABORAÇÃO ') + 'N[^\\n]+','',delationPdfText)\n",
    "    delationPdfText = re.sub(fixOcr('TERMO DE DECLARAÇÕES '),'',delationPdfText)\n",
    "    delationPdfText = re.sub(fixOcr('DRCOR - Delegacia Regional de Comba') + '[tl]' + fixOcr('e ao Crime Organizado'),'',delationPdfText)\n",
    "    delationPdfText = re.sub(fixOcr('TERMO DE DECLARAÇÕES'),'',delationPdfText)\n",
    "    delationPdfText = re.sub(fixOcr('DELEFIN - Delegacia de Repressão a Crimes contra o Sistema Financeiro e Desvio de Verbas Públicas'),'',delationPdfText)\n",
    "    delationPdfText = re.sub(fixOcr('DELEFIN - Delegacia de Repressão a Crimes contra o Sistema Financeiro e Desvio de Veribas Públicas'),'',delationPdfText)\n",
    "    delationPdfText = delationPdfText[:re.search('\\nDECLARANTE:',delationPdfText).span()[0]]\n",
    "    delationPdfText = re.sub('\\n',' ',delationPdfText)\n",
    "    return delationPdfText\n",
    "    \n",
    "result = extractDelation(txtDelacoes[0])\n",
    "\n",
    "words = str.split(result, ' ')\n",
    "\n",
    "wordCount = {}\n",
    "\n",
    "for word in words:\n",
    "    if(re.match('\\d', word) == None and len(word) > 1):\n",
    "        fixedWord = str.lower(re.sub('[,;\\.\"]$','',word))\n",
    "        fixedWord = re.sub('^\"','',fixedWord)\n",
    "        if(fixedWord in wordCount):\n",
    "            wordCount[fixedWord] += 1\n",
    "        else:\n",
    "            wordCount[fixedWord] = 1\n",
    "\n",
    "mostCommonUselessWords = ['-', '', 'de','era', 'eram','junto','a', 'é','•', 'feito','que','diz','anteriormente','serem',\n",
    "                          'fazer','tendo','quem','dos', 'segundo','ter','sendo','art.', 'conforme','qual','afirma','o', \n",
    "                          'pelas','podendo','quais','do', 'acerca','da', 'fim','no', 'em', 'se', 'como', 'um', 'uma', \n",
    "                          'os', 'as', 'para', 'e', 'por', 'na', 'com', 'Dos', 'ou', 'das', 'são', 'ao', 'entre', 'mais', \n",
    "                          'nos', 'ser', 'sua', 'mas', 'tem', 'também', 'pela', 'sobre', 'seu', 'pelo', 'pode', 'termos',\n",
    "                          'assim', 'esta', 'nas', 'já', 'aos', 'questão', 'diferentes', 'termo', 'in', 'mesmo', 'século',\n",
    "                          'outro', 'este', 'isso', 'pois', 'há', 'isto', 'lugar', 'the', 'esse', 'outros', 'sem', 'uso', \n",
    "                          'essa', 'lá', 'foi', 'ainda', 'ele', 'não', 'só', 'realização','determinada','algum','seria',\n",
    "                          'assevera','pessoa','teve','próprio','ate','inicialmente','sempre','vezes','havia','pet','passou',\n",
    "                          'presente','algumas','\\x0c', 'período','recorda-se','antes','nota','prévio','seja','sido',\n",
    "                          'todavia','feitos','inclusive','meio','teve','sido','declarante']\n",
    "\n",
    "for uselessWord in mostCommonUselessWords:\n",
    "    wordCount.pop(uselessWord, None)\n",
    "    \n",
    "sortedWordCount = sorted(wordCount.items(), key=lambda word: word[1])\n",
    "sortedWordCount.reverse()\n",
    "sortedWordCount[:100]"
   ]
  },
  {
   "cell_type": "code",
   "execution_count": 35,
   "metadata": {
    "collapsed": false
   },
   "outputs": [
    {
     "data": {
      "text/plain": [
       "'p\\\\s?o\\\\s?t\\\\s?a\\\\s?t\\\\s?o\\\\s?!\\\\s?!\\\\s?!\\\\s?'"
      ]
     },
     "execution_count": 35,
     "metadata": {},
     "output_type": "execute_result"
    }
   ],
   "source": [
    "def getRegexPatternWithIntersectingSpaces(pattern):\n",
    "    result = \"\"\n",
    "    for c in pattern:\n",
    "        result += c + \"\\s?\"\n",
    "    return result\n",
    "        \n",
    "getRegexPatternWithIntersectingSpaces(\"potato!!!\")"
   ]
  },
  {
   "cell_type": "code",
   "execution_count": 47,
   "metadata": {
    "collapsed": false
   },
   "outputs": [
    {
     "data": {
      "text/plain": [
       "'S\\\\s?U\\\\s?P\\\\s?E\\\\s?R\\\\s?I\\\\s?N\\\\s?T\\\\s?E\\\\s?N\\\\s?[DO0]\\\\s?[Ê~]\\\\s?N\\\\s?C\\\\s?I\\\\s?A\\\\s? \\\\s?R\\\\s?E\\\\s?G\\\\s?I\\\\s?[DO0]\\\\s?N\\\\s?A\\\\s?L\\\\s? \\\\s?N\\\\s?[DO0]\\\\s? \\\\s?E\\\\s?S\\\\s?T\\\\s?A\\\\s?[DO0]\\\\s?[DO0]\\\\s? \\\\s?[DO0]\\\\s?[DO0]\\\\s? \\\\s?P\\\\s?A\\\\s?R\\\\s?A\\\\s?N\\\\s?Á\\\\s?'"
      ]
     },
     "execution_count": 47,
     "metadata": {},
     "output_type": "execute_result"
    }
   ],
   "source": [
    "fixOcr('SUPERINTENDÊNCIA REGIONAL NO ESTAOO DO PARANÁ')"
   ]
  },
  {
   "cell_type": "code",
   "execution_count": 51,
   "metadata": {
    "collapsed": false
   },
   "outputs": [
    {
     "ename": "AttributeError",
     "evalue": "module 're' has no attribute 'matches'",
     "output_type": "error",
     "traceback": [
      "\u001b[1;31m---------------------------------------------------------------------------\u001b[0m",
      "\u001b[1;31mAttributeError\u001b[0m                            Traceback (most recent call last)",
      "\u001b[1;32m<ipython-input-51-a31ad078e945>\u001b[0m in \u001b[0;36m<module>\u001b[1;34m()\u001b[0m\n\u001b[1;32m----> 1\u001b[1;33m \u001b[0ma\u001b[0m \u001b[1;33m=\u001b[0m \u001b[0mre\u001b[0m\u001b[1;33m.\u001b[0m\u001b[0mmatches\u001b[0m\u001b[1;33m(\u001b[0m\u001b[0mfixOcr\u001b[0m\u001b[1;33m(\u001b[0m\u001b[1;34m'SUPERINTENDÊNCIA REGIONAL NO ESTAOO DO PARANÁ'\u001b[0m\u001b[1;33m)\u001b[0m\u001b[1;33m,\u001b[0m \u001b[1;34m'SUPERINTENO~NCIA REGIONAL NO ESTADO DO PARANA'\u001b[0m\u001b[1;33m)\u001b[0m\u001b[1;33m\u001b[0m\u001b[0m\n\u001b[0m\u001b[0;32m      2\u001b[0m \u001b[1;33m\u001b[0m\u001b[0m\n\u001b[0;32m      3\u001b[0m \u001b[0mprint\u001b[0m\u001b[1;33m(\u001b[0m\u001b[0ma\u001b[0m\u001b[1;33m)\u001b[0m\u001b[1;33m\u001b[0m\u001b[0m\n",
      "\u001b[1;31mAttributeError\u001b[0m: module 're' has no attribute 'matches'"
     ]
    }
   ],
   "source": [
    "a = re.matches(fixOcr('SUPERINTENDÊNCIA REGIONAL NO ESTAOO DO PARANA'), 'SUPERINTENO~NCIA REGIONAL NO ESTADO DO PARANA')\n",
    "\n",
    "print(a)"
   ]
  },
  {
   "cell_type": "code",
   "execution_count": 74,
   "metadata": {
    "collapsed": false
   },
   "outputs": [
    {
     "name": "stdout",
     "output_type": "stream",
     "text": [
      "3\n"
     ]
    }
   ],
   "source": [
    "print(re.search('\\nDECLARANTE:', 'abc\\nDECLARANTE:ABC').span()[0])"
   ]
  },
  {
   "cell_type": "code",
   "execution_count": 106,
   "metadata": {
    "collapsed": false
   },
   "outputs": [
    {
     "name": "stdout",
     "output_type": "stream",
     "text": [
      "<_sre.SRE_Match object; span=(0, 1), match='1'>\n"
     ]
    }
   ],
   "source": [
    "a = re.match('\\d', '123')\n",
    "print(a)"
   ]
  },
  {
   "cell_type": "code",
   "execution_count": 103,
   "metadata": {
    "collapsed": false
   },
   "outputs": [
    {
     "name": "stdout",
     "output_type": "stream",
     "text": [
      "Help on function match in module re:\n",
      "\n",
      "match(pattern, string, flags=0)\n",
      "    Try to apply the pattern at the start of the string, returning\n",
      "    a match object, or None if no match was found.\n",
      "\n"
     ]
    }
   ],
   "source": [
    "help(re.match)"
   ]
  },
  {
   "cell_type": "code",
   "execution_count": null,
   "metadata": {
    "collapsed": true
   },
   "outputs": [],
   "source": []
  }
 ],
 "metadata": {
  "kernelspec": {
   "display_name": "Python 3",
   "language": "python",
   "name": "python3"
  },
  "language_info": {
   "codemirror_mode": {
    "name": "ipython",
    "version": 3
   },
   "file_extension": ".py",
   "mimetype": "text/x-python",
   "name": "python",
   "nbconvert_exporter": "python",
   "pygments_lexer": "ipython3",
   "version": "3.5.1"
  }
 },
 "nbformat": 4,
 "nbformat_minor": 0
}
