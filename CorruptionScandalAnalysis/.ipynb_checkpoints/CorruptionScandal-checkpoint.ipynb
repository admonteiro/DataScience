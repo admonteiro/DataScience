{
 "cells": [
  {
   "cell_type": "markdown",
   "metadata": {},
   "source": [
    "## LAVA JATO - AN INFOGRAPHIC OF THE CORRUPTION SCANDALS IN BRAZIL"
   ]
  },
  {
   "cell_type": "code",
   "execution_count": 1,
   "metadata": {
    "collapsed": false
   },
   "outputs": [
    {
     "data": {
      "text/plain": [
       "['Colaboração premiada - Alberto Youssef - Depoimento 1.pdf',\n",
       " 'Colaboração premiada - Alberto Youssef - Depoimento 10.pdf',\n",
       " 'Colaboração premiada - Alberto Youssef - Depoimento 11.pdf',\n",
       " 'Colaboração premiada - Alberto Youssef - Depoimento 12.pdf',\n",
       " 'Colaboração premiada - Alberto Youssef - Depoimento 13.pdf',\n",
       " 'Colaboração premiada - Alberto Youssef - Depoimento 14.pdf',\n",
       " 'Colaboração premiada - Alberto Youssef - Depoimento 15.pdf',\n",
       " 'Colaboração premiada - Alberto Youssef - Depoimento 16.pdf',\n",
       " 'Colaboração premiada - Alberto Youssef - Depoimento 17.pdf',\n",
       " 'Colaboração premiada - Alberto Youssef - Depoimento 18.pdf',\n",
       " 'Colaboração premiada - Alberto Youssef - Depoimento 19.pdf',\n",
       " 'Colaboração premiada - Alberto Youssef - Depoimento 2.pdf',\n",
       " 'Colaboração premiada - Alberto Youssef - Depoimento 20.pdf',\n",
       " 'Colaboração premiada - Alberto Youssef - Depoimento 21.pdf',\n",
       " 'Colaboração premiada - Alberto Youssef - Depoimento 22.pdf',\n",
       " 'Colaboração premiada - Alberto Youssef - Depoimento 23.pdf',\n",
       " 'Colaboração premiada - Alberto Youssef - Depoimento 24.pdf',\n",
       " 'Colaboração premiada - Alberto Youssef - Depoimento 25.pdf',\n",
       " 'Colaboração premiada - Alberto Youssef - Depoimento 26.pdf',\n",
       " 'Colaboração premiada - Alberto Youssef - Depoimento 27.pdf',\n",
       " 'Colaboração premiada - Alberto Youssef - Depoimento 28.pdf',\n",
       " 'Colaboração premiada - Alberto Youssef - Depoimento 29.pdf',\n",
       " 'Colaboração premiada - Alberto Youssef - Depoimento 3.pdf',\n",
       " 'Colaboração premiada - Alberto Youssef - Depoimento 30.pdf',\n",
       " 'Colaboração premiada - Alberto Youssef - Depoimento 31.pdf',\n",
       " 'Colaboração premiada - Alberto Youssef - Depoimento 32.pdf',\n",
       " 'Colaboração premiada - Alberto Youssef - Depoimento 33.pdf',\n",
       " 'Colaboração premiada - Alberto Youssef - Depoimento 34.pdf',\n",
       " 'Colaboração premiada - Alberto Youssef - Depoimento 35.pdf',\n",
       " 'Colaboração premiada - Alberto Youssef - Depoimento 36.pdf',\n",
       " 'Colaboração premiada - Alberto Youssef - Depoimento 37.pdf',\n",
       " 'Colaboração premiada - Alberto Youssef - Depoimento 38.pdf',\n",
       " 'Colaboração premiada - Alberto Youssef - Depoimento 39.pdf',\n",
       " 'Colaboração premiada - Alberto Youssef - Depoimento 4.pdf',\n",
       " 'Colaboração premiada - Alberto Youssef - Depoimento 40.pdf',\n",
       " 'Colaboração premiada - Alberto Youssef - Depoimento 41.pdf',\n",
       " 'Colaboração premiada - Alberto Youssef - Depoimento 42.pdf',\n",
       " 'Colaboração premiada - Alberto Youssef - Depoimento 43.pdf',\n",
       " 'Colaboração premiada - Alberto Youssef - Depoimento 44.pdf',\n",
       " 'Colaboração premiada - Alberto Youssef - Depoimento 45.pdf',\n",
       " 'Colaboração premiada - Alberto Youssef - Depoimento 46.pdf',\n",
       " 'Colaboração premiada - Alberto Youssef - Depoimento 47.pdf',\n",
       " 'Colaboração premiada - Alberto Youssef - Depoimento 48.pdf',\n",
       " 'Colaboração premiada - Alberto Youssef - Depoimento 5.pdf',\n",
       " 'Colaboração premiada - Alberto Youssef - Depoimento 50.pdf',\n",
       " 'Colaboração premiada - Alberto Youssef - Depoimento 51.pdf',\n",
       " 'Colaboração premiada - Alberto Youssef - Depoimento 52.pdf',\n",
       " 'Colaboração premiada - Alberto Youssef - Depoimento 53.pdf',\n",
       " 'Colaboração premiada - Alberto Youssef - Depoimento 54.pdf',\n",
       " 'Colaboração premiada - Alberto Youssef - Depoimento 55.pdf',\n",
       " 'Colaboração premiada - Alberto Youssef - Depoimento 56.pdf',\n",
       " 'Colaboração premiada - Alberto Youssef - Depoimento 57.pdf',\n",
       " 'Colaboração premiada - Alberto Youssef - Depoimento 58.pdf',\n",
       " 'Colaboração premiada - Alberto Youssef - Depoimento 6.pdf',\n",
       " 'Colaboração premiada - Alberto Youssef - Depoimento 7.pdf',\n",
       " 'Colaboração premiada - Alberto Youssef - Depoimento 8.pdf',\n",
       " 'Colaboração premiada - Alberto Youssef - Depoimento 9.pdf',\n",
       " 'Colaboração premiada - Alberto Youssef - Depoimento complementar 1.pdf',\n",
       " 'Colaboração premiada - Alberto Youssef - Depoimento complementar 10.pdf',\n",
       " 'Colaboração premiada - Alberto Youssef - Depoimento complementar 11.pdf',\n",
       " 'Colaboração premiada - Alberto Youssef - Depoimento complementar 12.pdf',\n",
       " 'Colaboração premiada - Alberto Youssef - Depoimento complementar 13.pdf',\n",
       " 'Colaboração premiada - Alberto Youssef - Depoimento complementar 14.pdf',\n",
       " 'Colaboração premiada - Alberto Youssef - Depoimento complementar 15.pdf',\n",
       " 'Colaboração premiada - Alberto Youssef - Depoimento complementar 16.pdf',\n",
       " 'Colaboração premiada - Alberto Youssef - Depoimento complementar 17.pdf',\n",
       " 'Colaboração premiada - Alberto Youssef - Depoimento complementar 18.pdf',\n",
       " 'Colaboração premiada - Alberto Youssef - Depoimento complementar 19.pdf',\n",
       " 'Colaboração premiada - Alberto Youssef - Depoimento complementar 2.pdf',\n",
       " 'Colaboração premiada - Alberto Youssef - Depoimento complementar 20.pdf',\n",
       " 'Colaboração premiada - Alberto Youssef - Depoimento complementar 21.pdf',\n",
       " 'Colaboração premiada - Alberto Youssef - Depoimento complementar 22.pdf',\n",
       " 'Colaboração premiada - Alberto Youssef - Depoimento complementar 23.pdf',\n",
       " 'Colaboração premiada - Alberto Youssef - Depoimento complementar 24.pdf',\n",
       " 'Colaboração premiada - Alberto Youssef - Depoimento complementar 25.pdf',\n",
       " 'Colaboração premiada - Alberto Youssef - Depoimento complementar 26.pdf',\n",
       " 'Colaboração premiada - Alberto Youssef - Depoimento complementar 27.pdf',\n",
       " 'Colaboração premiada - Alberto Youssef - Depoimento complementar 28.pdf',\n",
       " 'Colaboração premiada - Alberto Youssef - Depoimento complementar 29.pdf',\n",
       " 'Colaboração premiada - Alberto Youssef - Depoimento complementar 3.pdf',\n",
       " 'Colaboração premiada - Alberto Youssef - Depoimento complementar 30.pdf',\n",
       " 'Colaboração premiada - Alberto Youssef - Depoimento complementar 4.pdf',\n",
       " 'Colaboração premiada - Alberto Youssef - Depoimento complementar 5.pdf',\n",
       " 'Colaboração premiada - Alberto Youssef - Depoimento complementar 6.pdf',\n",
       " 'Colaboração premiada - Alberto Youssef - Depoimento complementar 7.pdf',\n",
       " 'Colaboração premiada - Alberto Youssef - Depoimento complementar 8.pdf',\n",
       " 'Colaboração premiada - Alberto Youssef - Depoimento complementar 9.pdf']"
      ]
     },
     "execution_count": 1,
     "metadata": {},
     "output_type": "execute_result"
    }
   ],
   "source": [
    "from os import listdir\n",
    "from os.path import isfile, join\n",
    "\n",
    "onlyfiles = [f for f in listdir('./Delações/') if isfile(join('./Delações/', f))]\n",
    "\n",
    "onlyfiles"
   ]
  },
  {
   "cell_type": "code",
   "execution_count": null,
   "metadata": {
    "collapsed": true
   },
   "outputs": [],
   "source": []
  }
 ],
 "metadata": {
  "kernelspec": {
   "display_name": "Python 3",
   "language": "python",
   "name": "python3"
  },
  "language_info": {
   "codemirror_mode": {
    "name": "ipython",
    "version": 3
   },
   "file_extension": ".py",
   "mimetype": "text/x-python",
   "name": "python",
   "nbconvert_exporter": "python",
   "pygments_lexer": "ipython3",
   "version": "3.5.1"
  }
 },
 "nbformat": 4,
 "nbformat_minor": 0
}
