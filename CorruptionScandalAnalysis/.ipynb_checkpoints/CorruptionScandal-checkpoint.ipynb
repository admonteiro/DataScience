{
 "cells": [
  {
   "cell_type": "markdown",
   "metadata": {},
   "source": [
    "## LAVA JATO - AN INFOGRAPHIC OF THE CORRUPTION SCANDALS IN BRAZIL"
   ]
  },
  {
   "cell_type": "code",
   "execution_count": 130,
   "metadata": {
    "collapsed": false
   },
   "outputs": [
    {
     "data": {
      "text/plain": [
       "['./Delações/Colaboração premiada - Alberto Youssef - Depoimento 1.pdf',\n",
       " './Delações/Colaboração premiada - Alberto Youssef - Depoimento 10.pdf',\n",
       " './Delações/Colaboração premiada - Alberto Youssef - Depoimento 11.pdf',\n",
       " './Delações/Colaboração premiada - Alberto Youssef - Depoimento 12.pdf',\n",
       " './Delações/Colaboração premiada - Alberto Youssef - Depoimento 13.pdf',\n",
       " './Delações/Colaboração premiada - Alberto Youssef - Depoimento 14.pdf',\n",
       " './Delações/Colaboração premiada - Alberto Youssef - Depoimento 15.pdf',\n",
       " './Delações/Colaboração premiada - Alberto Youssef - Depoimento 16.pdf',\n",
       " './Delações/Colaboração premiada - Alberto Youssef - Depoimento 17.pdf',\n",
       " './Delações/Colaboração premiada - Alberto Youssef - Depoimento 18.pdf']"
      ]
     },
     "execution_count": 130,
     "metadata": {},
     "output_type": "execute_result"
    }
   ],
   "source": [
    "from os import listdir\n",
    "from os.path import isfile, join\n",
    "\n",
    "delacoes = ['./Delações/' + f for f in listdir('./Delações/') if isfile(join('./Delações/', f))]\n",
    "\n",
    "delacoes[:10]\n",
    "\n"
   ]
  },
  {
   "cell_type": "code",
   "execution_count": 131,
   "metadata": {
    "collapsed": false,
    "scrolled": false
   },
   "outputs": [
    {
     "name": "stdout",
     "output_type": "stream",
     "text": [
      "--------------------------------~-~ -\n",
      "\n",
      "CONFIDENCIAL \n",
      "POLICIA FEDERAL \n",
      "\n",
      "SUPERINTEND~NCIA REGIONAL NO ESTAOO 00 PARANÁ \n",
      "\n",
      "TERMO DE COLABORAÇÃO N ° 01 \n",
      "\n",
      "TERMO DE DECLARA Ç ÕES \n",
      "\n",
      "que presta ALBERTO YOUSSEF \n",
      "\n",
      "DRCOR - Delegacia Regional de Combate ao Crime Organizado \n",
      "DELEFIN - Delegacia de Repressão a C r\n"
     ]
    }
   ],
   "source": [
    "from pdfminer.pdfinterp import PDFResourceManager, PDFPageInterpreter\n",
    "from pdfminer.converter import TextConverter\n",
    "from pdfminer.layout import LAParams\n",
    "from pdfminer.pdfparser import PDFPage\n",
    "from pdfminer.pdfparser import *\n",
    "from io import StringIO\n",
    "\n",
    "txtDelacoes = []\n",
    "\n",
    "def convert_pdf_to_txt(path):\n",
    "    retstr = StringIO()\n",
    "    rsrcmgr = PDFResourceManager()\n",
    "    device = TextConverter(rsrcmgr, retstr, laparams=LAParams())\n",
    "    interpreter = PDFPageInterpreter(rsrcmgr, device)\n",
    "\n",
    "    fp = open(delacoes[0], 'rb')\n",
    "\n",
    "    parser = PDFParser(fp)\n",
    "    document = PDFDocument()\n",
    "    parser.set_document(document)\n",
    "    document.set_parser(parser)\n",
    "\n",
    "    for page in document.get_pages():\n",
    "        interpreter.process_page(page)\n",
    "\n",
    "    text = retstr.getvalue()\n",
    "\n",
    "    fp.close()\n",
    "    device.close()\n",
    "    retstr.close()\n",
    "    return text\n",
    "\n",
    "txtDelacoes.append(convert_pdf_to_txt(delacoes[0]))\n",
    "\n",
    "print(txtDelacoes[0][:300])"
   ]
  },
  {
   "cell_type": "code",
   "execution_count": 132,
   "metadata": {
    "collapsed": false
   },
   "outputs": [
    {
     "data": {
      "text/plain": [
       "' que presta ALBERTO YOUSSEF      16402272884 Pet 5245  Ao(s) 02 dia(s) do mês de outubro de 2014, nesta Superintendência Regional do  Departamento de Polícía Federal, em Curitiba/PR, perante EDUARDO MAUAT DA SILVA,  Delegada de Polícia Federal, Classe Especial, matrícula nO 8190, atendendo a requisição  do Procurador Geral da República constante do Ofício n° 1152/Gab para se proceder á  oitiva de ALBERTO YOUSSEF, brasileiro, casado, RG 3506470-21PR, CPF 532.050.659- 72, filho de Kalim Youssef e '"
      ]
     },
     "execution_count": 132,
     "metadata": {},
     "output_type": "execute_result"
    }
   ],
   "source": [
    "import re\n",
    "\n",
    "def fixOcr(pattern):\n",
    "    result = \"\"\n",
    "    for c in pattern:\n",
    "        result += c + \"\\s?\"\n",
    "        \n",
    "    result = re.sub('[DO0]','[DO0]',result)\n",
    "    result = re.sub('Ê','[Ê~]',result)\n",
    "    result = re.sub('Á','[AÁ]',result)\n",
    "    return result\n",
    "\n",
    "def extractDelation(delationPdfText):\n",
    "    delationPdfText = delationPdfText[re.search('\\nque presta ',delationPdfText).span()[0]:]\n",
    "    delationPdfText = re.sub(fixOcr('CONFIDENCIAL \\nPOLICIA FEDERAL'),'',delationPdfText)\n",
    "    delationPdfText = re.sub(fixOcr('\\nCONFIDENCIAL'),'',delationPdfText)\n",
    "    delationPdfText = re.sub(fixOcr('\\nSUPERINTENDIONCIA'),'',delationPdfText)\n",
    "    delationPdfText = re.sub(fixOcr('SUPERINTENDÊNCIA REGIONAL NO ESTAOO DO PARANÁ'),'',delationPdfText)\n",
    "    delationPdfText = re.sub(fixOcr('REGIONAL NO ESTAOO DO PARANÁ'),'',delationPdfText)\n",
    "    delationPdfText = re.sub(fixOcr('TERMO DE COLABORAÇÃO ') + 'N[^\\n]+','',delationPdfText)\n",
    "    delationPdfText = re.sub(fixOcr('TERMO DE DECLARAÇÕES '),'',delationPdfText)\n",
    "    delationPdfText = re.sub(fixOcr('DRCOR - Delegacia Regional de Comba') + '[tl]' + fixOcr('e ao Crime Organizado'),'',delationPdfText)\n",
    "    delationPdfText = re.sub(fixOcr('TERMO DE DECLARAÇÕES'),'',delationPdfText)\n",
    "    delationPdfText = re.sub(fixOcr('DELEFIN - Delegacia de Repressão a Crimes contra o Sistema Financeiro e Desvio de Verbas Públicas'),'',delationPdfText)\n",
    "    delationPdfText = re.sub(fixOcr('DELEFIN - Delegacia de Repressão a Crimes contra o Sistema Financeiro e Desvio de Veribas Públicas'),'',delationPdfText)\n",
    "    delationPdfText = delationPdfText[:re.search('\\nDECLARANTE:',delationPdfText).span()[0]]\n",
    "    delationPdfText = re.sub('\\n',' ',delationPdfText)\n",
    "    return delationPdfText\n",
    "    \n",
    "result = extractDelation(txtDelacoes[0])\n",
    "\n",
    "result[:500]"
   ]
  },
  {
   "cell_type": "code",
   "execution_count": 134,
   "metadata": {
    "collapsed": false
   },
   "outputs": [
    {
     "data": {
      "text/plain": [
       "[('valores', 21),\n",
       " ('janene', 20),\n",
       " ('empreiteiras', 20),\n",
       " ('empresas', 20),\n",
       " ('paulo', 20),\n",
       " ('roberto', 17),\n",
       " ('contratos', 11),\n",
       " ('petrobras', 10),\n",
       " ('costa', 10),\n",
       " ('jose', 10),\n",
       " ('caso', 10),\n",
       " ('empresa', 10),\n",
       " ('questionado', 9),\n",
       " ('ano', 9),\n",
       " ('diretoria', 8),\n",
       " ('pagamentos', 7),\n",
       " ('esquema', 7),\n",
       " ('valor', 7),\n",
       " ('federal', 6),\n",
       " ('lei', 6),\n",
       " ('emissão', 6),\n",
       " ('relação', 6),\n",
       " ('grandes', 5),\n",
       " ('serviços', 5),\n",
       " ('espécie', 5)]"
      ]
     },
     "execution_count": 134,
     "metadata": {},
     "output_type": "execute_result"
    }
   ],
   "source": [
    "words = str.split(result, ' ')\n",
    "\n",
    "wordCount = {}\n",
    "\n",
    "for word in words:\n",
    "    if(re.match('\\d', word) == None and len(word) > 1):\n",
    "        fixedWord = str.lower(re.sub('[,;\\.\"]$','',word))\n",
    "        fixedWord = re.sub('^\"','',fixedWord)\n",
    "        if(fixedWord in wordCount):\n",
    "            wordCount[fixedWord] += 1\n",
    "        else:\n",
    "            wordCount[fixedWord] = 1\n",
    "\n",
    "mostCommonUselessWords = ['-', '', 'de','era', 'eram','junto','a', 'é','•', 'feito','que','diz','anteriormente','serem',\n",
    "                          'fazer','tendo','quem','dos', 'segundo','ter','sendo','art.', 'conforme','qual','afirma','o', \n",
    "                          'pelas','podendo','quais','do', 'acerca','da', 'fim','no', 'em', 'se', 'como', 'um', 'uma', \n",
    "                          'os', 'as', 'para', 'e', 'por', 'na', 'com', 'Dos', 'ou', 'das', 'são', 'ao', 'entre', 'mais', \n",
    "                          'nos', 'ser', 'sua', 'mas', 'tem', 'também', 'pela', 'sobre', 'seu', 'pelo', 'pode', 'termos',\n",
    "                          'assim', 'esta', 'nas', 'já', 'aos', 'questão', 'diferentes', 'termo', 'in', 'mesmo', 'século',\n",
    "                          'outro', 'este', 'isso', 'pois', 'há', 'isto', 'lugar', 'the', 'esse', 'outros', 'sem', 'uso', \n",
    "                          'essa', 'lá', 'foi', 'ainda', 'ele', 'não', 'só', 'realização','determinada','algum','seria',\n",
    "                          'assevera','pessoa','teve','próprio','ate','inicialmente','sempre','vezes','havia','pet','passou',\n",
    "                          'presente','algumas','\\x0c', 'período','recorda-se','antes','nota','prévio','seja','sido',\n",
    "                          'todavia','feitos','inclusive','meio','teve','sido','declarante']\n",
    "\n",
    "for uselessWord in mostCommonUselessWords:\n",
    "    wordCount.pop(uselessWord, None)\n",
    "    \n",
    "sortedWordCount = sorted(wordCount.items(), key=lambda word: word[1])\n",
    "sortedWordCount.reverse()\n",
    "sortedWordCount[:25]"
   ]
  }
 ],
 "metadata": {
  "kernelspec": {
   "display_name": "Python 3",
   "language": "python",
   "name": "python3"
  },
  "language_info": {
   "codemirror_mode": {
    "name": "ipython",
    "version": 3
   },
   "file_extension": ".py",
   "mimetype": "text/x-python",
   "name": "python",
   "nbconvert_exporter": "python",
   "pygments_lexer": "ipython3",
   "version": "3.5.1"
  }
 },
 "nbformat": 4,
 "nbformat_minor": 0
}
